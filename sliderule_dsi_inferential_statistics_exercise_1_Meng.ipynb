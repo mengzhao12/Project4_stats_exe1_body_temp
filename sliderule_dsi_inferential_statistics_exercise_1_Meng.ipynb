{
 "cells": [
  {
   "cell_type": "markdown",
   "metadata": {},
   "source": [
    "# What is the True Normal Human Body Temperature? \n",
    "\n",
    "#### Background\n",
    "\n",
    "The mean normal body temperature was held to be 37$^{\\circ}$C or 98.6$^{\\circ}$F for more than 120 years since it was first conceptualized and reported by Carl Wunderlich in a famous 1868 book. But, is this value statistically correct?"
   ]
  },
  {
   "cell_type": "markdown",
   "metadata": {},
   "source": [
    "<h3>Exercises</h3>\n",
    "\n",
    "<p>In this exercise, you will analyze a dataset of human body temperatures and employ the concepts of hypothesis testing, confidence intervals, and statistical significance.</p>\n",
    "\n",
    "<p>Answer the following questions <b>in this notebook below and submit to your Github account</b>.</p> \n",
    "\n",
    "<ol>\n",
    "<li>  Is the distribution of body temperatures normal? \n",
    "    <ul>\n",
    "    <li> Although this is not a requirement for the Central Limit Theorem to hold (read the introduction on Wikipedia's page about the CLT carefully: https://en.wikipedia.org/wiki/Central_limit_theorem), it gives us some peace of mind that the population may also be normally distributed if we assume that this sample is representative of the population.\n",
    "    <li> Think about the way you're going to check for the normality of the distribution. Graphical methods are usually used first, but there are also other ways: https://en.wikipedia.org/wiki/Normality_test\n",
    "    </ul>\n",
    "<li>  Is the sample size large? Are the observations independent?\n",
    "    <ul>\n",
    "    <li> Remember that this is a condition for the Central Limit Theorem, and hence the statistical tests we are using, to apply.\n",
    "    </ul>\n",
    "<li>  Is the true population mean really 98.6 degrees F?\n",
    "    <ul>\n",
    "    <li> First, try a bootstrap hypothesis test.\n",
    "    <li> Now, let's try frequentist statistical testing. Would you use a one-sample or two-sample test? Why?\n",
    "    <li> In this situation, is it appropriate to use the $t$ or $z$ statistic? \n",
    "    <li> Now try using the other test. How is the result be different? Why?\n",
    "    </ul>\n",
    "<li>  Draw a small sample of size 10 from the data and repeat both frequentist tests. \n",
    "    <ul>\n",
    "    <li> Which one is the correct one to use? \n",
    "    <li> What do you notice? What does this tell you about the difference in application of the $t$ and $z$ statistic?\n",
    "    </ul>\n",
    "<li>  At what temperature should we consider someone's temperature to be \"abnormal\"?\n",
    "    <ul>\n",
    "    <li> As in the previous example, try calculating everything using the boostrap approach, as well as the frequentist approach.\n",
    "    <li> Start by computing the margin of error and confidence interval. When calculating the confidence interval, keep in mind that you should use the appropriate formula for one draw, and not N draws.\n",
    "    </ul>\n",
    "<li>  Is there a significant difference between males and females in normal temperature?\n",
    "    <ul>\n",
    "    <li> What testing approach did you use and why?\n",
    "    <li> Write a story with your conclusion in the context of the original problem.\n",
    "    </ul>\n",
    "</ol>\n",
    "\n",
    "You can include written notes in notebook cells using Markdown: \n",
    "   - In the control panel at the top, choose Cell > Cell Type > Markdown\n",
    "   - Markdown syntax: http://nestacms.com/docs/creating-content/markdown-cheat-sheet\n",
    "\n",
    "#### Resources\n",
    "\n",
    "+ Information and data sources: http://www.amstat.org/publications/jse/datasets/normtemp.txt, http://www.amstat.org/publications/jse/jse_data_archive.htm\n",
    "+ Markdown syntax: http://nestacms.com/docs/creating-content/markdown-cheat-sheet\n",
    "\n",
    "****"
   ]
  },
  {
   "cell_type": "code",
   "execution_count": 1,
   "metadata": {},
   "outputs": [],
   "source": [
    "import pandas as pd\n",
    "import matplotlib.pyplot as plt\n",
    "import numpy as np\n",
    "import scipy.stats as stats\n",
    "\n",
    "%matplotlib inline\n",
    "\n",
    "df = pd.read_csv('data/human_body_temperature.csv')"
   ]
  },
  {
   "cell_type": "markdown",
   "metadata": {
    "collapsed": true
   },
   "source": [
    "1. Is the distribution of body temperatures normal?\n",
    "\n",
    "   * Although this is not a requirement for the Central Limit Theorem to hold (read the introduction on Wikipedia's page about the CLT carefully: https://en.wikipedia.org/wiki/Central_limit_theorem), it gives us some peace of mind that the population may also be normally distributed if we assume that this sample is representative of the population.\n",
    "\n",
    "   * Think about the way you're going to check for the normality of the distribution. Graphical methods are usually used first, but there are also other ways: https://en.wikipedia.org/wiki/Normality_test"
   ]
  },
  {
   "cell_type": "code",
   "execution_count": 2,
   "metadata": {},
   "outputs": [
    {
     "name": "stdout",
     "output_type": "stream",
     "text": [
      "<class 'pandas.core.frame.DataFrame'>\n",
      "RangeIndex: 130 entries, 0 to 129\n",
      "Data columns (total 3 columns):\n",
      "temperature    130 non-null float64\n",
      "gender         130 non-null object\n",
      "heart_rate     130 non-null float64\n",
      "dtypes: float64(2), object(1)\n",
      "memory usage: 3.1+ KB\n"
     ]
    },
    {
     "data": {
      "text/html": [
       "<div>\n",
       "<style scoped>\n",
       "    .dataframe tbody tr th:only-of-type {\n",
       "        vertical-align: middle;\n",
       "    }\n",
       "\n",
       "    .dataframe tbody tr th {\n",
       "        vertical-align: top;\n",
       "    }\n",
       "\n",
       "    .dataframe thead th {\n",
       "        text-align: right;\n",
       "    }\n",
       "</style>\n",
       "<table border=\"1\" class=\"dataframe\">\n",
       "  <thead>\n",
       "    <tr style=\"text-align: right;\">\n",
       "      <th></th>\n",
       "      <th>temperature</th>\n",
       "      <th>gender</th>\n",
       "      <th>heart_rate</th>\n",
       "    </tr>\n",
       "  </thead>\n",
       "  <tbody>\n",
       "    <tr>\n",
       "      <th>0</th>\n",
       "      <td>99.3</td>\n",
       "      <td>F</td>\n",
       "      <td>68.0</td>\n",
       "    </tr>\n",
       "    <tr>\n",
       "      <th>1</th>\n",
       "      <td>98.4</td>\n",
       "      <td>F</td>\n",
       "      <td>81.0</td>\n",
       "    </tr>\n",
       "    <tr>\n",
       "      <th>2</th>\n",
       "      <td>97.8</td>\n",
       "      <td>M</td>\n",
       "      <td>73.0</td>\n",
       "    </tr>\n",
       "    <tr>\n",
       "      <th>3</th>\n",
       "      <td>99.2</td>\n",
       "      <td>F</td>\n",
       "      <td>66.0</td>\n",
       "    </tr>\n",
       "    <tr>\n",
       "      <th>4</th>\n",
       "      <td>98.0</td>\n",
       "      <td>F</td>\n",
       "      <td>73.0</td>\n",
       "    </tr>\n",
       "  </tbody>\n",
       "</table>\n",
       "</div>"
      ],
      "text/plain": [
       "   temperature gender  heart_rate\n",
       "0         99.3      F        68.0\n",
       "1         98.4      F        81.0\n",
       "2         97.8      M        73.0\n",
       "3         99.2      F        66.0\n",
       "4         98.0      F        73.0"
      ]
     },
     "execution_count": 2,
     "metadata": {},
     "output_type": "execute_result"
    }
   ],
   "source": [
    "df.info()\n",
    "df.head()\n",
    "# df dataset has 130 entries without any missing values"
   ]
  },
  {
   "cell_type": "code",
   "execution_count": 3,
   "metadata": {},
   "outputs": [
    {
     "name": "stdout",
     "output_type": "stream",
     "text": [
      "the sample mean is 98.24923076923078\n",
      "the sample standard deviation is 0.7331831580389454\n"
     ]
    }
   ],
   "source": [
    "# calculate the sample mean and sample deviation\n",
    "sample_mean= df['temperature'].mean()\n",
    "sample_std = df['temperature'].std()\n",
    "print(\"the sample mean is \" + str(sample_mean))\n",
    "print(\"the sample standard deviation is \" + str(sample_std))"
   ]
  },
  {
   "cell_type": "code",
   "execution_count": 4,
   "metadata": {},
   "outputs": [
    {
     "name": "stdout",
     "output_type": "stream",
     "text": [
      "the number of entries with tempature smaller than or equal to the sample mean is : 66\n",
      "the number of entries with tempature larger than the sample mean is : 64\n"
     ]
    },
    {
     "data": {
      "image/png": "[encoded data removed]",
      "text/plain": [
       "<Figure size 432x288 with 1 Axes>"
      ]
     },
     "metadata": {
      "needs_background": "light"
     },
     "output_type": "display_data"
    }
   ],
   "source": [
    "plt.hist(x = df['temperature'], bins = 'auto')\n",
    "plt.xlabel('temperature/F')\n",
    "plt.ylabel('counts')\n",
    "\n",
    "# plot a dashed line representing temperature's sample mean\n",
    "plt.plot([sample_mean, sample_mean], [0, 30], 'k--', lw=2)\n",
    "\n",
    "# count the number of entries with tempature smaller than or equal to the sample mean\n",
    "t_smaller_or_eq_mean = df[df['temperature'] >= sample_mean].count()['temperature']\n",
    "t_larger_than_mean = 130 - t_smaller_or_eq_mean\n",
    "\n",
    "print(\"the number of entries with tempature smaller than or equal to the sample mean is : \" \n",
    "      + str(t_smaller_or_eq_mean))\n",
    "print(\"the number of entries with tempature larger than the sample mean is : \" \n",
    "      + str(t_larger_than_mean))"
   ]
  },
  {
   "cell_type": "markdown",
   "metadata": {},
   "source": [
    "Answer to question 1: The distribution of body temperatures is symmetric and normal"
   ]
  },
  {
   "cell_type": "markdown",
   "metadata": {},
   "source": [
    "2. Is the sample size large? Are the observations independent?\n",
    "\n",
    "   * Remember that this is a condition for the Central Limit Theorem, and hence the statistical tests we are using, to apply."
   ]
  },
  {
   "cell_type": "markdown",
   "metadata": {},
   "source": [
    "Answer to question 2: The sample size = 130 > 30, so it is a large sample size. \n",
    "This sample size is far less than 10% of the entire population, therefore the observations are independent."
   ]
  },
  {
   "cell_type": "markdown",
   "metadata": {},
   "source": [
    "3. Is the true population mean really 98.6 degrees F?\n",
    "\n",
    "   * First, try a bootstrap hypothesis test.\n",
    "   * Now, let's try frequentist statistical testing. Would you use a one-sample or two-sample test? Why?\n",
    "   * In this situation, is it appropriate to use the  𝑡  or  𝑧  statistic?\n",
    "   * Now try using the other test. How is the result be different? Why?"
   ]
  },
  {
   "cell_type": "code",
   "execution_count": 5,
   "metadata": {},
   "outputs": [
    {
     "name": "stdout",
     "output_type": "stream",
     "text": [
      "bootstrap hypothesis test: p =  0.0\n",
      "Therefore we reject the H0, the true population mean is not 98.6\n"
     ]
    }
   ],
   "source": [
    "# bootstrap hypothesis test\n",
    "# H0: true mean = 98.6, Ha: true mean is not equal to 98.6\n",
    "\n",
    "def bootstrap_replicate_1d(data, func):\n",
    "    return func(np.random.choice(data, size=len(data)))\n",
    "\n",
    "def draw_bs_reps(data, func, size=1):\n",
    "    \"\"\"Draw bootstrap replicates.\"\"\"\n",
    "\n",
    "    # Initialize array of replicates: bs_replicates\n",
    "    bs_replicates = np.empty(size)\n",
    "\n",
    "    # Generate replicates\n",
    "    for i in range(size):\n",
    "        bs_replicates[i] = bootstrap_replicate_1d(data,func)\n",
    "\n",
    "    return bs_replicates\n",
    "\n",
    "# Make an array of translated_temp with mean = 98.6\n",
    "translated_temp = df['temperature'] - np.mean(df['temperature']) + 98.6\n",
    "\n",
    "# Take bootstrap replicates of translated_temp\n",
    "bs_replicates = draw_bs_reps(translated_temp, func = np.mean, size = 10000)\n",
    "\n",
    "# Compute fraction of replicates that are less than the observed temperature mean mean\n",
    "p = np.sum(bs_replicates <= np.mean(df['temperature'])) / 10000\n",
    "\n",
    "# Print the p-value\n",
    "print('bootstrap hypothesis test: p = ', p)\n",
    "print(\"Therefore we reject the H0, the true population mean is not 98.6\")"
   ]
  },
  {
   "cell_type": "code",
   "execution_count": 6,
   "metadata": {},
   "outputs": [
    {
     "name": "stdout",
     "output_type": "stream",
     "text": [
      "the p-value of frequentist statistical testing for t test is: 0.9488273769463869\n",
      "the p-value of frequentist statistical testing for z test is: 0.9487278366080021\n",
      "Therefore we reject the H0, the true population mean is not 98.6\n"
     ]
    }
   ],
   "source": [
    "# Frequentist statistical testing \n",
    "# H0: true mean = 98.6, Ha: true mean is not equal to 98.6\n",
    "# We use one-sample test as we are not comparing statistics between groups\n",
    "\n",
    "# As we deal with mean and don't know the population variance, t statistics is approporate\n",
    "# SE = (98.6-sample_mean)/(sample_std/np.sqrt(130))\n",
    "SE = sample_std/np.sqrt(130)\n",
    "degree_of_freedom = 129\n",
    "\n",
    "p_value_t = 2*(1-stats.t.cdf(SE,degree_of_freedom))\n",
    "\n",
    "print(\"the p-value of frequentist statistical testing for t test is: \" + str(p_value_t))\n",
    "\n",
    "# if we use z test instead\n",
    "\n",
    "p_value_z = 2*(1-stats.norm.cdf(SE))\n",
    "\n",
    "print(\"the p-value of frequentist statistical testing for z test is: \" + str(p_value_z))\n",
    "print(\"Therefore we reject the H0, the true population mean is not 98.6\")"
   ]
  },
  {
   "cell_type": "markdown",
   "metadata": {},
   "source": [
    "Answer to question 3: \n",
    " * H0: true mean = 98.6, Ha: true mean is not equal to 98.6\n",
    " * The p value calculated from bootstrap hypothesis testing is 0.0 (<0.05), therefore we reject the null hypothesis and the true population mean is not 98.6.\n",
    " * The p value of frequentist statistical testing is 2.41e-07(< 0.05), therefore we reject the null hypothesis and the true population mean is not 98.6.\n",
    " * When conducting frequentist statistical testing, we used t statistics since we dealt with mean and population variance is not available.\n",
    " * When we used z statistics, we also get the small p value of 4.90e-08(< 0.05). Therefore we reject the null hypothesis. We can use z statistics when having a large sample size(n > 30)"
   ]
  },
  {
   "cell_type": "markdown",
   "metadata": {},
   "source": [
    "4. Draw a small sample of size 10 from the data and repeat both frequentist tests.\n",
    "   * Which one is the correct one to use?\n",
    "   * What do you notice? What does this tell you about the difference in application of the  𝑡  and  𝑧  statistic?"
   ]
  },
  {
   "cell_type": "code",
   "execution_count": 7,
   "metadata": {},
   "outputs": [
    {
     "name": "stdout",
     "output_type": "stream",
     "text": [
      "the sample(n=10) mean is 98.22\n",
      "the sample(n=10) standard deviation is 0.769992784958983\n",
      "the p-value of the sample(n=10) for t test is: 0.153046248695619\n",
      "the p-value of the sample(n=10) for z test is: 0.11861362990253155\n",
      "both p-value > 0.05, and we fail to reject the H0\n"
     ]
    }
   ],
   "source": [
    "# randomly draw a sample of size 10\n",
    "\n",
    "df_n_10 = df['temperature'].sample(n=10, random_state=42)\n",
    "\n",
    "# calculate the sample mean and sample deviation of this small sample\n",
    "sample_mean_n10= df_n_10.mean()\n",
    "sample_std_n10 = df_n_10.std()\n",
    "\n",
    "print(\"the sample(n=10) mean is \" + str(sample_mean_n10))\n",
    "print(\"the sample(n=10) standard deviation is \" + str(sample_std_n10))\n",
    "\n",
    "# since n=10<30, we should use t statistics\n",
    "# H0: true mean = 98.6, Ha: true mean is not equal to 98.6\n",
    "SE_n10 = (98.6-sample_mean_n10)/(sample_std_n10/np.sqrt(10))\n",
    "degree_of_freedom_n10 = 9\n",
    "\n",
    "p_value_t_n10 = 2*(1-stats.t.cdf(SE_n10,degree_of_freedom_n10))\n",
    "\n",
    "print(\"the p-value of the sample(n=10) for t test is: \" + str(p_value_t_n10))\n",
    "\n",
    "# if we use z test instead\n",
    "p_value_z_n10 = 2*(1-stats.norm.cdf(SE_n10))\n",
    "\n",
    "print(\"the p-value of the sample(n=10) for z test is: \" + str(p_value_z_n10))\n",
    "print(\"both p-value > 0.05, and we fail to reject the H0\")\n",
    "\n",
    "# both p-value > 0.05 so we fail to reject the H0, \n",
    "# the difference between t and z test is due to the small sample size(n<30)\n",
    "# small sample size leads to the wrong conclusion on the hypothesis test"
   ]
  },
  {
   "cell_type": "markdown",
   "metadata": {},
   "source": [
    "5. At what temperature should we consider someone's temperature to be \"abnormal\"?\n",
    "   * As in the previous example, try calculating everything using the boostrap approach, as well as the frequentist approach.\n",
    "   * Start by computing the margin of error and confidence interval. When calculating the confidence interval, keep in mind that you should use the appropriate formula for one draw, and not N draws."
   ]
  },
  {
   "cell_type": "code",
   "execution_count": 8,
   "metadata": {},
   "outputs": [
    {
     "name": "stdout",
     "output_type": "stream",
     "text": [
      "99% confidence interval of bootstrap approach is: [98.43691538 98.76615769]\n",
      "We consider someone's temperature to be abnormal if the temperature is < 98.43 or > 98.76\n",
      "99% confidence interval of frequentist approach is: [98.12197232830859, 98.37648921015297]\n",
      "We consider someone's temperature to be abnormal if the temperature is < 98.12 or > 98.38\n"
     ]
    }
   ],
   "source": [
    "# calculate the 99% confidence interval from boostrap approach\n",
    "bs_replicates_1_sample = draw_bs_reps(translated_temp, func = np.mean, size = 1)\n",
    "cf_interval = np.percentile(bs_replicates, [0.5,99.5])\n",
    "\n",
    "print(\"99% confidence interval of bootstrap approach is: \" + str(cf_interval))\n",
    "print(\"We consider someone's temperature to be abnormal if the temperature is < 98.43 or > 98.76\")\n",
    "\n",
    "# calculate the 99% confidence interval from frequentist approach, t(degree of freedom = 129) = 1.979\n",
    "low_limit = sample_mean - 1.979*SE\n",
    "high_limit = sample_mean + 1.979*SE\n",
    "ci = [low_limit,high_limit]\n",
    "print(\"99% confidence interval of frequentist approach is: \" + str(ci))\n",
    "print(\"We consider someone's temperature to be abnormal if the temperature is < 98.12 or > 98.38\")"
   ]
  },
  {
   "cell_type": "markdown",
   "metadata": {},
   "source": [
    "6. Is there a significant difference between males and females in normal temperature?\n",
    "   * What testing approach did you use and why?\n",
    "   * Write a story with your conclusion in the context of the original problem."
   ]
  },
  {
   "cell_type": "code",
   "execution_count": 9,
   "metadata": {},
   "outputs": [
    {
     "name": "stdout",
     "output_type": "stream",
     "text": [
      "p value for two-sample t test = 0.02393188312239561\n",
      "p value <0.05 we reject H0 and suggest that mean_temp_male not equal to mean_temp_female.\n"
     ]
    }
   ],
   "source": [
    "df_temp_female = df[df['gender'] == 'F'].temperature\n",
    "df_temp_male = df[df['gender'] == 'M'].temperature\n",
    "alpha = 0.05\n",
    "\n",
    "# Two-sample t test between two sample means\n",
    "# H0: mean_temp_male = mean_temp_female,Ha: mean_temp_male not equal to mean_temp_female\n",
    "t_statistic, pvalue = stats.ttest_ind(df_temp_female,df_temp_male)\n",
    "print(\"p value for two-sample t test = \" + str(pvalue))\n",
    "print(\"p value <0.05 we reject H0 and suggest \" \n",
    "      \"that mean_temp_male not equal to mean_temp_female.\")"
   ]
  },
  {
   "cell_type": "markdown",
   "metadata": {},
   "source": [
    "Story: Although the mean normal body temperature was held to be 37C or 98.6F \n",
    "for over a hundred year, the tempeture mean of the population is not 98.6F \n",
    "(99% confendence interval of [98.43,98.76]). Also there is a \n",
    "significant difference in normal temperature between males and females.\n"
   ]
  },
  {
   "cell_type": "code",
   "execution_count": null,
   "metadata": {},
   "outputs": [],
   "source": []
  }
 ],
 "metadata": {
  "kernelspec": {
   "display_name": "Python 3",
   "language": "python",
   "name": "python3"
  },
  "language_info": {
   "codemirror_mode": {
    "name": "ipython",
    "version": 3
   },
   "file_extension": ".py",
   "mimetype": "text/x-python",
   "name": "python",
   "nbconvert_exporter": "python",
   "pygments_lexer": "ipython3",
   "version": "3.6.7"
  }
 },
 "nbformat": 4,
 "nbformat_minor": 1
}
